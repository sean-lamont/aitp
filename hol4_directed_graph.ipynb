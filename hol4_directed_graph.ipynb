{
 "cells": [
  {
   "cell_type": "code",
   "execution_count": 1,
   "metadata": {
    "collapsed": true,
    "ExecuteTime": {
     "end_time": "2023-06-30T12:56:09.390694710Z",
     "start_time": "2023-06-30T12:56:09.390421335Z"
    }
   },
   "outputs": [],
   "source": [
    "# def get_directed_edge_index(num_nodes, edge_idx):\n",
    "#     from_idx = []\n",
    "#     to_idx = []\n",
    "#\n",
    "#     for i in range(0,num_nodes-1):\n",
    "#         # to_idx = [i]\n",
    "#         try:\n",
    "#             ancestor_nodes, _, self_idx, _ = torch_geometric.utils.k_hop_subgraph(i, num_hops=num_nodes,edge_index=edge_idx)\n",
    "#             # print (f\"ancestor nodes for {i}: {ancestor_nodes}\")\n",
    "#         except:\n",
    "#             print (f\"exception {i, num_nodes, edge_idx}\")\n",
    "#\n",
    "#         # ancestor_nodes = ancestor_nodes.item()\n",
    "#         found_nodes = list(ancestor_nodes.numpy())\n",
    "#         found_nodes.remove(i)\n",
    "#\n",
    "#\n",
    "#         if found_nodes is not None:\n",
    "#             for node in found_nodes:\n",
    "#                 to_idx.append(i)\n",
    "#                 from_idx.append(node)\n",
    "#\n",
    "#         children_nodes, _, self_idx, _ = torch_geometric.utils.k_hop_subgraph(i, num_hops=num_nodes,edge_index=edge_idx, flow='target_to_source')\n",
    "#\n",
    "#         found_nodes = list(children_nodes.numpy())\n",
    "#         found_nodes.remove(i)\n",
    "#         if found_nodes is not None:\n",
    "#             for node in found_nodes:\n",
    "#                 to_idx.append(i)\n",
    "#                 from_idx.append(node)\n",
    "#\n",
    "#     return torch.tensor([from_idx, to_idx], dtype=torch.long)\n",
    "#\n",
    "#\n",
    "# # probably slow, could recursively do k-hop subgraph with k = 1 instead\n",
    "# def get_depth_from_graph(num_nodes, edge_index):\n",
    "#     from_idx = edge_index[0]\n",
    "#     to_idx = edge_index[1]\n",
    "#\n",
    "#\n",
    "#     # find source node\n",
    "#     all_nodes = torch.arange(num_nodes)\n",
    "#     source_node = [x for x in all_nodes if x not in to_idx]\n",
    "#\n",
    "#     assert len(source_node) == 1\n",
    "#\n",
    "#     source_node = source_node[0]\n",
    "#\n",
    "#     depths = torch.zeros(num_nodes, dtype=torch.long)\n",
    "#\n",
    "#     prev_depth_nodes = [source_node]\n",
    "#\n",
    "#     for i in range(1, num_nodes):\n",
    "#         all_i_depth_nodes , _, _, _ = torch_geometric.utils.k_hop_subgraph(source_node.item(), num_hops=i, edge_index=edge_index, flow='target_to_source')\n",
    "#         i_depth_nodes = [j for j in all_i_depth_nodes if j not in prev_depth_nodes]\n",
    "#\n",
    "#         for node_idx in i_depth_nodes:\n",
    "#             depths[node_idx] = i\n",
    "#\n",
    "#         prev_depth_nodes = all_i_depth_nodes\n",
    "#\n",
    "#\n",
    "#     return depths\n",
    "#\n",
    "#\n",
    "# new_dict = {}\n",
    "# from tqdm import tqdm\n",
    "# for k,v in tqdm(graph_torch_data['graph_dict'].items()):\n",
    "#     v['attention_edge_index'] = get_directed_edge_index(len(v['onehot']), torch.LongTensor(v['edge_index']))\n",
    "#     v['depth'] = get_depth_from_graph(len(v['onehot']), torch.LongTensor(v['edge_index']))\n",
    "#     new_dict[k] =  v\n",
    "#\n",
    "# graph_torch_data['graph_dict'] = new_dict\n",
    "# torch.save(graph_torch_data,'data/hol4/graph_attention_data/data.pt')"
   ]
  },
  {
   "cell_type": "code",
   "execution_count": 73,
   "outputs": [],
   "source": [
    "from data.hol4.mongo_to_torch import HOL4DataModuleGraph"
   ],
   "metadata": {
    "collapsed": false,
    "ExecuteTime": {
     "end_time": "2023-07-07T08:27:57.960860125Z",
     "start_time": "2023-07-07T08:27:56.110806418Z"
    }
   }
  },
  {
   "cell_type": "code",
   "execution_count": 74,
   "outputs": [],
   "source": [
    "module = HOL4DataModuleGraph('data/hol4/graph_attention_data_new')"
   ],
   "metadata": {
    "collapsed": false,
    "ExecuteTime": {
     "end_time": "2023-07-07T08:27:58.006403344Z",
     "start_time": "2023-07-07T08:27:57.961424583Z"
    }
   }
  },
  {
   "cell_type": "code",
   "execution_count": 75,
   "outputs": [
    {
     "name": "stdout",
     "output_type": "stream",
     "text": [
      "Generating data from MongoDB..\n"
     ]
    },
    {
     "name": "stderr",
     "output_type": "stream",
     "text": [
      "226213it [00:01, 134027.25it/s]\n",
      "226213it [00:01, 190066.31it/s]\n",
      "226213it [00:01, 186830.81it/s]\n"
     ]
    },
    {
     "name": "stdout",
     "output_type": "stream",
     "text": [
      "Adding attention edge index\n"
     ]
    },
    {
     "name": "stderr",
     "output_type": "stream",
     "text": [
      "100%|██████████| 7872/7872 [03:04<00:00, 42.61it/s] \n"
     ]
    }
   ],
   "source": [
    "module.prepare_data()\n",
    "module.prepare_data()\n",
    "module.prepare_data()"
   ],
   "metadata": {
    "collapsed": false,
    "ExecuteTime": {
     "end_time": "2023-07-07T08:31:08.262480771Z",
     "start_time": "2023-07-07T08:27:58.006513414Z"
    }
   }
  },
  {
   "cell_type": "code",
   "execution_count": 76,
   "outputs": [
    {
     "name": "stdout",
     "output_type": "stream",
     "text": [
      "Setting up data loaders..\n"
     ]
    }
   ],
   "source": [
    "module.setup(\"fit\")"
   ],
   "metadata": {
    "collapsed": false,
    "ExecuteTime": {
     "end_time": "2023-07-07T08:31:13.227618099Z",
     "start_time": "2023-07-07T08:31:09.321712600Z"
    }
   }
  },
  {
   "cell_type": "code",
   "execution_count": 77,
   "outputs": [
    {
     "data": {
      "text/plain": "15"
     },
     "execution_count": 77,
     "metadata": {},
     "output_type": "execute_result"
    }
   ],
   "source": [
    "max([i for x in module.graph_dict.values() for i in x['edge_attr']])\n"
   ],
   "metadata": {
    "collapsed": false,
    "ExecuteTime": {
     "end_time": "2023-07-07T08:32:55.264130828Z",
     "start_time": "2023-07-07T08:32:55.212856435Z"
    }
   }
  },
  {
   "cell_type": "code",
   "execution_count": 72,
   "outputs": [
    {
     "data": {
      "text/plain": "(array([328., 543., 354., 455., 559., 443., 353., 330., 430., 365., 294.,\n        263., 265., 220., 210., 157., 134., 123., 140., 131., 104., 106.,\n         67.,  75.,  83.,  93.,  58.,  65.,  61.,  45.,  59.,  38.,  30.,\n         39.,  44.,  34.,  28.,  41.,  25.,  21.,  34.,  28.,  25.,  22.,\n         19.,  13.,  19.,  17.,  18.,   8.,  20.,  17.,  13.,  16.,  18.,\n         16.,  14.,   7.,  12.,  12.,   4.,  13.,   9.,   6.,  11.,   6.,\n         16.,   4.,  10.,   4.,  13.,   6.,   3.,   9.,   3.,   2.,   3.,\n          2.,   2.,   5.,   7.,   5.,   4.,   3.,   5.,   3.,   3.,   4.,\n          6.,   2.,   5.,   6.,   3.,   1.,   7.,   1.,   1.,   2.,   5.,\n          3.]),\n array([   0.,   20.,   40.,   60.,   80.,  100.,  120.,  140.,  160.,\n         180.,  200.,  220.,  240.,  260.,  280.,  300.,  320.,  340.,\n         360.,  380.,  400.,  420.,  440.,  460.,  480.,  500.,  520.,\n         540.,  560.,  580.,  600.,  620.,  640.,  660.,  680.,  700.,\n         720.,  740.,  760.,  780.,  800.,  820.,  840.,  860.,  880.,\n         900.,  920.,  940.,  960.,  980., 1000., 1020., 1040., 1060.,\n        1080., 1100., 1120., 1140., 1160., 1180., 1200., 1220., 1240.,\n        1260., 1280., 1300., 1320., 1340., 1360., 1380., 1400., 1420.,\n        1440., 1460., 1480., 1500., 1520., 1540., 1560., 1580., 1600.,\n        1620., 1640., 1660., 1680., 1700., 1720., 1740., 1760., 1780.,\n        1800., 1820., 1840., 1860., 1880., 1900., 1920., 1940., 1960.,\n        1980., 2000.]),\n <BarContainer object of 100 artists>)"
     },
     "execution_count": 72,
     "metadata": {},
     "output_type": "execute_result"
    },
    {
     "data": {
      "text/plain": "<Figure size 640x480 with 1 Axes>",
      "image/png": "[encoded data removed]"
     },
     "metadata": {},
     "output_type": "display_data"
    }
   ],
   "source": [
    "import matplotlib.pyplot as plt\n",
    "plt.hist([len(x['attention_edge_index'][0]) for x in module.graph_dict.values()], bins=100, range=(0, 2000))"
   ],
   "metadata": {
    "collapsed": false,
    "ExecuteTime": {
     "end_time": "2023-07-07T08:23:10.186580746Z",
     "start_time": "2023-07-07T08:23:09.951727014Z"
    }
   }
  },
  {
   "cell_type": "code",
   "execution_count": 58,
   "outputs": [],
   "source": [
    "train_loader = module.train_dataloader()"
   ],
   "metadata": {
    "collapsed": false,
    "ExecuteTime": {
     "end_time": "2023-07-07T08:19:13.094662247Z",
     "start_time": "2023-07-07T08:19:13.014595786Z"
    }
   }
  },
  {
   "cell_type": "code",
   "execution_count": 59,
   "outputs": [],
   "source": [
    "batch = next(iter(train_loader))"
   ],
   "metadata": {
    "collapsed": false,
    "ExecuteTime": {
     "end_time": "2023-07-07T08:19:13.140617738Z",
     "start_time": "2023-07-07T08:19:13.095555587Z"
    }
   }
  },
  {
   "cell_type": "code",
   "execution_count": 62,
   "outputs": [
    {
     "data": {
      "text/plain": "826"
     },
     "execution_count": 62,
     "metadata": {},
     "output_type": "execute_result"
    }
   ],
   "source": [
    "batch[0].num_nodes"
   ],
   "metadata": {
    "collapsed": false,
    "ExecuteTime": {
     "end_time": "2023-07-07T08:19:37.522600502Z",
     "start_time": "2023-07-07T08:19:37.488056865Z"
    }
   }
  },
  {
   "cell_type": "code",
   "execution_count": 46,
   "outputs": [],
   "source": [
    "from models.get_model import get_model"
   ],
   "metadata": {
    "collapsed": false,
    "ExecuteTime": {
     "end_time": "2023-07-07T08:10:45.489178857Z",
     "start_time": "2023-07-07T08:10:43.713933330Z"
    }
   }
  },
  {
   "cell_type": "code",
   "execution_count": 9,
   "outputs": [],
   "source": [
    "%load_ext autoreload"
   ],
   "metadata": {
    "collapsed": false,
    "ExecuteTime": {
     "end_time": "2023-07-07T08:01:26.692279873Z",
     "start_time": "2023-07-07T08:01:26.652935767Z"
    }
   }
  },
  {
   "cell_type": "code",
   "execution_count": 10,
   "outputs": [],
   "source": [
    "%autoreload 2"
   ],
   "metadata": {
    "collapsed": false,
    "ExecuteTime": {
     "end_time": "2023-07-07T08:01:27.423466658Z",
     "start_time": "2023-07-07T08:01:27.421659585Z"
    }
   }
  },
  {
   "cell_type": "code",
   "execution_count": 47,
   "outputs": [],
   "source": [
    "sat_config = {\n",
    "    \"model_type\": \"sat\",\n",
    "    # 'gnn_type': 'di_gcn',\n",
    "    \"num_edge_features\":  200,\n",
    "    \"vocab_size\":1004,\n",
    "    \"embedding_dim\": 256,\n",
    "    \"dim_feedforward\": 256,\n",
    "    \"num_heads\": 4,\n",
    "    \"num_layers\": 2,\n",
    "    \"in_embed\": True,\n",
    "    \"se\": \"formula-net\",\n",
    "    \"abs_pe\": False,\n",
    "    \"abs_pe_dim\": 256,\n",
    "    \"use_edge_attr\": True,\n",
    "    \"dropout\": 0.,\n",
    "    \"gnn_layers\": 3,\n",
    "    \"directed_attention\": False,\n",
    "    'small_inner': True\n",
    "}\n",
    "\n",
    "\n",
    "model = get_model(sat_config)"
   ],
   "metadata": {
    "collapsed": false,
    "ExecuteTime": {
     "end_time": "2023-07-07T08:10:49.463106339Z",
     "start_time": "2023-07-07T08:10:49.411496707Z"
    }
   }
  },
  {
   "cell_type": "code",
   "execution_count": 48,
   "outputs": [
    {
     "name": "stdout",
     "output_type": "stream",
     "text": [
      "tensor([[  1,   6,   8,  ..., 822, 825, 821],\n",
      "        [  0,   0,   0,  ..., 824, 824, 824]])\n",
      "torch.Size([13304, 128]) torch.Size([13304, 128]) torch.Size([13304, 128]) tensor([0, 0, 0, 0, 0, 0, 0, 0, 0, 0, 0, 0, 0, 0, 0, 1, 1, 1, 1, 1]) torch.Size([13304]) None 826\n",
      "torch.Size([13304, 128]) torch.Size([13304, 128]) torch.Size([13304, 128]) tensor([0, 0, 0, 0, 0, 0, 0, 0, 0, 0, 0, 0, 0, 0, 0, 1, 1, 1, 1, 1]) torch.Size([13304]) None 826\n"
     ]
    },
    {
     "data": {
      "text/plain": "tensor([[0.7241, 1.6973, 1.4417,  ..., 0.6779, 1.5508, 0.3504],\n        [0.6085, 1.4330, 0.7217,  ..., 1.0594, 1.0948, 0.7711],\n        [0.6139, 0.4275, 1.4856,  ..., 0.3846, 0.7700, 0.6462],\n        ...,\n        [0.7802, 0.5756, 0.7805,  ..., 0.7552, 1.3187, 0.4251],\n        [0.6135, 1.6567, 0.7656,  ..., 0.8805, 1.3436, 0.3903],\n        [0.7466, 0.7009, 0.6175,  ..., 0.6911, 0.4044, 0.5398]],\n       grad_fn=<ScatterReduceBackward0>)"
     },
     "execution_count": 48,
     "metadata": {},
     "output_type": "execute_result"
    }
   ],
   "source": [
    "model(batch[0])\n"
   ],
   "metadata": {
    "collapsed": false,
    "ExecuteTime": {
     "end_time": "2023-07-07T08:10:50.090869085Z",
     "start_time": "2023-07-07T08:10:49.982725592Z"
    }
   }
  },
  {
   "cell_type": "code",
   "execution_count": 45,
   "outputs": [
    {
     "data": {
      "text/plain": "tensor([0, 0, 0, 0, 0, 0, 0, 0, 0, 0, 0, 0, 0, 0, 0])"
     },
     "execution_count": 45,
     "metadata": {},
     "output_type": "execute_result"
    }
   ],
   "source": [
    "batch[0].attention_edge_index[1][:15]\n",
    "\n"
   ],
   "metadata": {
    "collapsed": false,
    "ExecuteTime": {
     "end_time": "2023-07-07T08:10:11.929131494Z",
     "start_time": "2023-07-07T08:10:11.894682842Z"
    }
   }
  },
  {
   "cell_type": "code",
   "execution_count": 27,
   "outputs": [
    {
     "data": {
      "text/plain": "tensor([  0,  48, 101, 113, 124, 131, 142, 168, 239, 252, 295, 305, 325, 346,\n        391, 400, 419, 447, 464, 511, 519, 541, 562, 581, 625, 636, 686, 708,\n        748, 772, 786, 819, 826])"
     },
     "execution_count": 27,
     "metadata": {},
     "output_type": "execute_result"
    }
   ],
   "source": [
    "batch[0].ptr"
   ],
   "metadata": {
    "collapsed": false,
    "ExecuteTime": {
     "end_time": "2023-07-07T08:07:33.367940844Z",
     "start_time": "2023-07-07T08:07:33.328837341Z"
    }
   }
  },
  {
   "cell_type": "code",
   "execution_count": null,
   "outputs": [],
   "source": [
    "import torch\n",
    "import"
   ],
   "metadata": {
    "collapsed": false
   }
  }
 ],
 "metadata": {
  "kernelspec": {
   "display_name": "Python 3",
   "language": "python",
   "name": "python3"
  },
  "language_info": {
   "codemirror_mode": {
    "name": "ipython",
    "version": 2
   },
   "file_extension": ".py",
   "mimetype": "text/x-python",
   "name": "python",
   "nbconvert_exporter": "python",
   "pygments_lexer": "ipython2",
   "version": "2.7.6"
  }
 },
 "nbformat": 4,
 "nbformat_minor": 0
}
