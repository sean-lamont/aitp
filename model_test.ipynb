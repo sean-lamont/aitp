{
 "cells": [
  {
   "cell_type": "code",
   "execution_count": null,
   "metadata": {
    "collapsed": true,
    "ExecuteTime": {
     "start_time": "2023-04-26T19:29:13.511957Z",
     "end_time": "2023-04-26T19:29:14.232184Z"
    }
   },
   "outputs": [],
   "source": [
    "from scipy._lib._test_ccallback import test_get_data_capsule\n",
    "\n",
    "from models.graph_transformers.SAT.sat import models\n",
    "from models.graph_transformers.SAT.sat import layers\n",
    "import torch\n",
    "import torch_geometric\n",
    "from torch_geometric.data import Data\n",
    "from torch_geometric.loader import DataLoader\n",
    "\n",
    "\n",
    "def ptr_to_complete_edge_index(ptr):\n",
    "    from_lists = [torch.arange(ptr[i], ptr[i + 1]).repeat_interleave(ptr[i + 1] - ptr[i]) for i in range(len(ptr) - 1)]\n",
    "    to_lists = [torch.arange(ptr[i], ptr[i + 1]).repeat(ptr[i + 1] - ptr[i]) for i in range(len(ptr) - 1)]\n",
    "    combined_complete_edge_index = torch.vstack((torch.cat(from_lists, dim=0), torch.cat(to_lists, dim=0)))\n",
    "    return combined_complete_edge_index\n",
    "test_data = torch.FloatTensor([1., 2., 3., 4., 5.]).unsqueeze(1)\n",
    "edge_index = torch.LongTensor([[0,1,2],[1, 2, 3]])\n",
    "\n",
    "test_graph = Data(x=test_data, edge_index=edge_index)\n",
    "test_data2 = torch.FloatTensor([-1., -2., -3., -4., 10]).unsqueeze(1)\n",
    "edge_index2 = torch.LongTensor([[0,1],[1, 2]])\n",
    "test_graph2 = Data(x=test_data2, edge_index=edge_index2)\n",
    "loader = iter(DataLoader([test_graph, test_graph2], batch_size=2))\n",
    "batch = next(loader)\n",
    "\n",
    "\n",
    "batch.complete_edge_index = torch.LongTensor([[0,1,5],[1,2,6]])\n",
    "# batch.complete_edge_index = ptr_to_complete_edge_index(batch.ptr)\n",
    "\n",
    "\n",
    "model = models.GraphTransformer(in_size=1,\n",
    "                                num_class=1,\n",
    "                                in_embed=False,\n",
    "                                d_model=3,\n",
    "                                dim_feedforward=2,\n",
    "                                num_heads=1,\n",
    "                                num_layers=1,\n",
    "                                abs_pe=False,\n",
    "                                abs_pe_dim=None,\n",
    "\n",
    "                                use_edge_attr=False,\n",
    "                                num_edge_features=0,\n",
    "                                dropout=0.,\n",
    "                                k_hop=2)\n",
    "\n",
    "\n",
    "#model(batch)"
   ]
  },
  {
   "cell_type": "code",
   "execution_count": null,
   "outputs": [],
   "source": [
    "amrlayer = layers.AttentionAMR(1, 0, 1, 0, True)"
   ],
   "metadata": {
    "collapsed": false,
    "ExecuteTime": {
     "start_time": "2023-04-26T19:29:15.264271Z",
     "end_time": "2023-04-26T19:29:15.273109Z"
    }
   }
  },
  {
   "cell_type": "code",
   "execution_count": null,
   "outputs": [],
   "source": [
    "amrlayer(batch.x, batch.x, batch.edge_index)"
   ],
   "metadata": {
    "collapsed": false,
    "ExecuteTime": {
     "start_time": "2023-04-26T19:29:16.632850Z",
     "end_time": "2023-04-26T19:29:16.657336Z"
    }
   }
  },
  {
   "cell_type": "code",
   "execution_count": null,
   "outputs": [],
   "source": [
    "embed = torch.nn.Linear(1000, 128)"
   ],
   "metadata": {
    "collapsed": false,
    "ExecuteTime": {
     "start_time": "2023-04-26T19:20:38.541615Z",
     "end_time": "2023-04-26T19:20:38.543432Z"
    }
   }
  },
  {
   "cell_type": "code",
   "execution_count": null,
   "outputs": [],
   "source": [
    "import pickle\n",
    "with open(\"data/hol4/data/torch_graph_dict.pk\", \"rb\") as f:\n",
    "    tg = pickle.load(f)\n",
    "test_graph_1 = tg[list(tg.keys())[0]]\n",
    "test_graph_1\n",
    "test_graph_2 = tg[list(tg.keys())[2]]\n",
    "test_graph_2\n",
    "loader = iter(DataLoader([test_graph_1, test_graph_2], batch_size=2))\n",
    "batch = next(loader)"
   ],
   "metadata": {
    "collapsed": false,
    "ExecuteTime": {
     "start_time": "2023-04-26T19:20:38.544588Z",
     "end_time": "2023-04-26T19:20:40.525897Z"
    }
   }
  },
  {
   "cell_type": "code",
   "execution_count": null,
   "outputs": [],
   "source": [
    "\n",
    "from models.graph_transformers.SAT.sat import layers\n",
    "amrlayer = layers.AttentionAMR(128,0,2,0,True)\n",
    "\n",
    "x = embed(batch.x)\n",
    "\n",
    "out_s, out_t = amrlayer(x, x, batch.edge_index)"
   ],
   "metadata": {
    "collapsed": false,
    "ExecuteTime": {
     "start_time": "2023-04-26T19:20:40.526406Z",
     "end_time": "2023-04-26T19:20:40.535305Z"
    }
   }
  },
  {
   "cell_type": "code",
   "execution_count": null,
   "outputs": [],
   "source": [
    "amrlayer(out_s, out_t, batch.edge_index)"
   ],
   "metadata": {
    "collapsed": false,
    "ExecuteTime": {
     "start_time": "2023-04-26T19:20:40.536190Z",
     "end_time": "2023-04-26T19:20:40.545420Z"
    }
   }
  },
  {
   "cell_type": "code",
   "execution_count": null,
   "outputs": [],
   "source": [
    "batch.edge_index"
   ],
   "metadata": {
    "collapsed": false,
    "ExecuteTime": {
     "start_time": "2023-04-26T19:21:22.562747Z",
     "end_time": "2023-04-26T19:21:22.608997Z"
    }
   }
  },
  {
   "cell_type": "code",
   "execution_count": null,
   "outputs": [],
   "source": [],
   "metadata": {
    "collapsed": false,
    "ExecuteTime": {
     "start_time": "2023-04-26T19:20:40.545875Z",
     "end_time": "2023-04-26T19:20:40.561308Z"
    }
   }
  }
 ],
 "metadata": {
  "kernelspec": {
   "name": "torch",
   "language": "python",
   "display_name": "torch"
  },
  "language_info": {
   "codemirror_mode": {
    "name": "ipython",
    "version": 2
   },
   "file_extension": ".py",
   "mimetype": "text/x-python",
   "name": "python",
   "nbconvert_exporter": "python",
   "pygments_lexer": "ipython2",
   "version": "2.7.6"
  }
 },
 "nbformat": 4,
 "nbformat_minor": 0
}
