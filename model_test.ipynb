{
 "cells": [
  {
   "cell_type": "code",
   "execution_count": null,
   "metadata": {
    "collapsed": true
   },
   "outputs": [],
   "source": [
    "from scipy._lib._test_ccallback import test_get_data_capsule\n",
    "\n",
    "from models.graph_transformers.SAT.sat import models\n",
    "from models.graph_transformers.SAT.sat import layers\n",
    "import torch\n",
    "import torch_geometric\n",
    "from torch_geometric.data import Data\n",
    "from torch_geometric.loader import DataLoader\n",
    "\n",
    "\n",
    "def ptr_to_complete_edge_index(ptr):\n",
    "    from_lists = [torch.arange(ptr[i], ptr[i + 1]).repeat_interleave(ptr[i + 1] - ptr[i]) for i in range(len(ptr) - 1)]\n",
    "    to_lists = [torch.arange(ptr[i], ptr[i + 1]).repeat(ptr[i + 1] - ptr[i]) for i in range(len(ptr) - 1)]\n",
    "    combined_complete_edge_index = torch.vstack((torch.cat(from_lists, dim=0), torch.cat(to_lists, dim=0)))\n",
    "    return combined_complete_edge_index\n",
    "test_data = torch.FloatTensor([1., 2., 3., 4., 5.]).unsqueeze(1)\n",
    "edge_index = torch.LongTensor([[0,1,2],[1, 2, 3]])\n",
    "\n",
    "test_graph = Data(x=test_data, edge_index=edge_index)\n",
    "test_data2 = torch.FloatTensor([-1., -2., -3., -4., 10]).unsqueeze(1)\n",
    "edge_index2 = torch.LongTensor([[0,1],[1, 2]])\n",
    "test_graph2 = Data(x=test_data2, edge_index=edge_index2)\n",
    "loader = iter(DataLoader([test_graph, test_graph2], batch_size=2))\n",
    "batch = next(loader)\n",
    "\n",
    "\n",
    "batch.complete_edge_index = torch.LongTensor([[0,1,5],[1,2,6]])\n",
    "# batch.complete_edge_index = ptr_to_complete_edge_index(batch.ptr)\n",
    "\n",
    "\n",
    "model = models.GraphTransformer(in_size=1,\n",
    "                                num_class=1,\n",
    "                                in_embed=False,\n",
    "                                d_model=3,\n",
    "                                dim_feedforward=2,\n",
    "                                num_heads=1,\n",
    "                                num_layers=1,\n",
    "                                abs_pe=False,\n",
    "                                abs_pe_dim=None,\n",
    "\n",
    "                                use_edge_attr=False,\n",
    "                                num_edge_features=0,\n",
    "                                dropout=0.,\n",
    "                                k_hop=2)\n",
    "\n",
    "\n",
    "#model(batch)"
   ]
  },
  {
   "cell_type": "code",
   "execution_count": null,
   "outputs": [],
   "source": [
    "amrlayer = layers.AttentionAMR(1, 0, 1, 0, True).cuda()"
   ],
   "metadata": {
    "collapsed": false
   }
  },
  {
   "cell_type": "code",
   "execution_count": null,
   "outputs": [],
   "source": [
    "batch.ptr"
   ],
   "metadata": {
    "collapsed": false
   }
  },
  {
   "cell_type": "code",
   "execution_count": null,
   "outputs": [],
   "source": [
    "edge_index_source = torch.LongTensor([[i for i in torch.arange(batch.edge_index.shape[1])], [batch.edge_index[0][i] for i in torch.arange(batch.edge_index.shape[1])]]).cuda()\n",
    "edge_index_target = torch.LongTensor([[i for i in torch.arange(batch.edge_index.shape[1])], [batch.edge_index[1][i] for i in torch.arange(batch.edge_index.shape[1])]]).cuda()\n",
    "\n",
    "amrlayer(batch.x.cuda(), batch.x.cuda(), batch.edge_index.cuda(), edge_index_source, edge_index_target, ptr=batch.ptr.cuda())"
   ],
   "metadata": {
    "collapsed": false
   }
  },
  {
   "cell_type": "code",
   "execution_count": null,
   "outputs": [],
   "source": [
    "embed = torch.nn.Linear(1000, 128)"
   ],
   "metadata": {
    "collapsed": false
   }
  },
  {
   "cell_type": "code",
   "execution_count": null,
   "outputs": [],
   "source": [
    "import pickle\n",
    "with open(\"data/hol4/data/torch_graph_dict.pk\", \"rb\") as f:\n",
    "    tg = pickle.load(f)\n",
    "test_graph_1 = tg[list(tg.keys())[0]]\n",
    "test_graph_1\n",
    "test_graph_2 = tg[list(tg.keys())[2]]\n",
    "test_graph_2\n",
    "loader = iter(DataLoader([test_graph_1, test_graph_2], batch_size=2))\n",
    "batch = next(loader)"
   ],
   "metadata": {
    "collapsed": false
   }
  },
  {
   "cell_type": "code",
   "execution_count": null,
   "outputs": [],
   "source": [
    "\n",
    "from models.graph_transformers.SAT.sat import layers\n",
    "amrlayer = layers.AttentionAMR(128,0,2,0,True)\n",
    "\n",
    "x = embed(batch.x)\n",
    "\n",
    "out_s, out_t = amrlayer(x, x, batch.edge_index)"
   ],
   "metadata": {
    "collapsed": false
   }
  },
  {
   "cell_type": "code",
   "execution_count": null,
   "outputs": [],
   "source": [
    "amrlayer(out_s, out_t, batch.edge_index)"
   ],
   "metadata": {
    "collapsed": false
   }
  },
  {
   "cell_type": "code",
   "execution_count": null,
   "outputs": [],
   "source": [
    "batch.edge_index"
   ],
   "metadata": {
    "collapsed": false
   }
  },
  {
   "cell_type": "code",
   "execution_count": null,
   "outputs": [],
   "source": [
    "\n",
    "batch.edge_attr = batch.edge_attr.long()\n",
    "model = models.AMRTransformer(in_size=1000,num_class=0,d_model=128,num_heads=4,dim_feedforward=128,dropout=0.1,use_edge_attr=True,num_layers=1,layer_norm=True,in_embed=False).cuda()\n",
    "model(batch.cuda())"
   ],
   "metadata": {
    "collapsed": false
   }
  },
  {
   "cell_type": "code",
   "execution_count": null,
   "outputs": [],
   "source": [
    "torch.tensor([1.,2.,3.,4.,5.]).to(torch.tensor([1.,1.,2.,5,5234,643,2345]))"
   ],
   "metadata": {
    "collapsed": false
   }
  },
  {
   "cell_type": "code",
   "execution_count": null,
   "outputs": [],
   "source": [
    "batch.x"
   ],
   "metadata": {
    "collapsed": false
   }
  },
  {
   "cell_type": "code",
   "execution_count": null,
   "outputs": [],
   "source": [],
   "metadata": {
    "collapsed": false
   }
  },
  {
   "cell_type": "code",
   "execution_count": null,
   "outputs": [],
   "source": [],
   "metadata": {
    "collapsed": false
   }
  },
  {
   "cell_type": "code",
   "execution_count": null,
   "outputs": [],
   "source": [
    "import torch\n",
    "from models.graph_transformers.SAT.sat.layers import AttentionRelations\n",
    "model = AttentionRelations(embed_dim=8, edge_dim=32)\n",
    "x = torch.rand(11, 8)\n",
    "edge_index = torch.LongTensor([[0,1,2,3,4,9,8,7,6,8],[4,3,2,1,0,7,8,8,6,6]])\n",
    "edge_attr = torch.LongTensor([0,0,1,3,0,1,2,3,2,1])\n",
    "softmax_idx = [5]\n",
    "model(x, edge_index, softmax_idx, edge_attr)"
   ],
   "metadata": {
    "collapsed": false
   }
  },
  {
   "cell_type": "code",
   "execution_count": null,
   "outputs": [],
   "source": [
    "torch.tensor_split(x, [0,5,10])"
   ],
   "metadata": {
    "collapsed": false
   }
  },
  {
   "cell_type": "code",
   "execution_count": null,
   "outputs": [],
   "source": [
    "'''\n",
    "Test for dropout memory issues using TransformerEncoderLayer\n",
    "'''"
   ],
   "metadata": {
    "collapsed": false
   }
  },
  {
   "cell_type": "code",
   "execution_count": null,
   "outputs": [],
   "source": [
    "from models.transformer_encoder_model import TransformerEmbedding\n"
   ],
   "metadata": {
    "collapsed": false
   }
  },
  {
   "cell_type": "code",
   "execution_count": 1,
   "outputs": [],
   "source": [
    "import torch\n",
    "# using standard TransformerEncoderLayer API, get very large memory increase when using dropout\n",
    "test_input = torch.rand((1024,32,128)).cuda()\n",
    "\n",
    "encoder_layers = torch.nn.TransformerEncoderLayer(128, 4, 8, dropout=0.1)\n",
    "test_model = torch.nn.TransformerEncoder(encoder_layers, 8).cuda()\n",
    "test_model = torch.compile(test_model)\n",
    "\n",
    "op = torch.optim.Adam(test_model.parameters())\n",
    "op.zero_grad()\n",
    "\n",
    "out = test_model(test_input)\n",
    "\n",
    "loss = torch.sum(out)\n",
    "\n",
    "loss.backward()\n",
    "op.step()"
   ],
   "metadata": {
    "collapsed": false,
    "ExecuteTime": {
     "end_time": "2023-05-09T06:13:35.162524364Z",
     "start_time": "2023-05-09T06:13:32.957679406Z"
    }
   }
  },
  {
   "cell_type": "code",
   "execution_count": null,
   "outputs": [],
   "source": [],
   "metadata": {
    "collapsed": false
   }
  },
  {
   "cell_type": "code",
   "execution_count": null,
   "outputs": [],
   "source": [
    "import pymongo\n",
    "import torch"
   ],
   "metadata": {
    "collapsed": false
   }
  },
  {
   "cell_type": "code",
   "execution_count": null,
   "outputs": [],
   "source": [
    "class DatabaseDataset(torch.utils.data.Dataset):\n",
    "    def __init__(self, query, batch_size, collection: str, database: str):\n",
    "        self.batch_size = batch_size\n",
    "\n",
    "        client = pymongo.MongoClient()\n",
    "        self.db = client[database]\n",
    "        self.collection = self.db[collection]\n",
    "        self.query = query\n",
    "\n",
    "        # Or non-approximate method, if the approximate method\n",
    "        # returns smaller number of items you should be fine\n",
    "        # self.length = self.db.estimated_document_count()\n",
    "\n",
    "        self.cursor = None\n",
    "\n",
    "    def __enter__(self):\n",
    "        # Ensure that this find returns the same order of query every time\n",
    "        # If not, you might get duplicated data\n",
    "        # It is rather unlikely (depending on batch size), shouldn't be a problem\n",
    "        # for 20 million samples anyway\n",
    "        self.cursor = self.db.find(self.query)\n",
    "        return self\n",
    "\n",
    "    def shuffle(self):\n",
    "        # Find a way to shuffle data so it is returned in different order\n",
    "        # If that happens out of the box you might be fine without it actually\n",
    "        pass\n",
    "\n",
    "    def __exit__(self, *_, **__):\n",
    "        # Or anything else how to close the connection\n",
    "        self.cursor.close()\n",
    "\n",
    "    def __len__(self):\n",
    "        return len(self.examples)\n",
    "\n",
    "    def __getitem__(self, index):\n",
    "        # Read takes long, hence if you can load a batch of documents it should speed things up\n",
    "        examples = self.cursor[index * self.batch_size : (index + 1) * self.batch_size]\n",
    "\n",
    "        # Do something with this data\n",
    "        ...\n",
    "        # Return the whole batch\n",
    "        return data, labels"
   ],
   "metadata": {
    "collapsed": false
   }
  },
  {
   "cell_type": "code",
   "execution_count": null,
   "outputs": [],
   "source": [
    "train_cursor = split_collection.aggregate([{\"$match\": {\"split\": \"train\"}}, {\"$sample\": {\"size\": 10000000}}])\n",
    "batches = get_batches(train_cursor, self.batch_size)\n"
   ],
   "metadata": {
    "collapsed": false
   }
  },
  {
   "cell_type": "code",
   "execution_count": null,
   "outputs": [],
   "source": [
    "from utils.mongodb_utils import get_batches\n",
    "from torch_geometric.data import Batch\n",
    "from pymongo import MongoClient\n",
    "import torch\n",
    "from torch.utils.data import DataLoader\n",
    "import lightning.pytorch as pl"
   ],
   "metadata": {
    "collapsed": false
   }
  },
  {
   "cell_type": "code",
   "execution_count": null,
   "outputs": [],
   "source": [
    "class MyIterableDataset(torch.utils.data.IterableDataset):\n",
    "    def __init__(self, cursor, buf_size):\n",
    "        super(MyIterableDataset).__init__()\n",
    "        self.cursor = cursor\n",
    "        self.batches = get_batches(self.cursor, batch_size=buf_size)\n",
    "        self.curr_batches = next(self.batches)\n",
    "        self.remaining = len(self.curr_batches)\n",
    "\n",
    "    def __iter__(self):\n",
    "        return self\n",
    "\n",
    "    def __next__(self):\n",
    "        if self.remaining == 0:\n",
    "            self.curr_batches = next(self.batches)\n",
    "            self.remaining = len(self.curr_batches)\n",
    "\n",
    "        self.remaining -= 1\n",
    "\n",
    "        if self.remaining >= 0:\n",
    "            return self.curr_batches.pop()\n",
    "        else:\n",
    "            raise StopIteration\n",
    "\n",
    "\n",
    "\n",
    "\n",
    "class PremiseSelectionSeparateGraphs(pl.LightningDataModule):\n",
    "    def __init__(self, config):\n",
    "        super().__init__()\n",
    "        self.config = config\n",
    "\n",
    "        client = MongoClient()\n",
    "        self.db = client[self.config['db_name']]\n",
    "        self.collection = self.db[self.config['collection_name']]\n",
    "        self.batch_size = self.config['batch_size']\n",
    "        self.options = config['options']\n",
    "\n",
    "    def sample_to_link(self, sample):\n",
    "        options = self.options\n",
    "        stmt_graph = sample['stmt_graph']\n",
    "        conj_graph = sample['conj_graph']\n",
    "        y = sample['y']\n",
    "\n",
    "        x1 = conj_graph['onehot']\n",
    "        x1_mat = torch.LongTensor(x1)\n",
    "\n",
    "        x2 = stmt_graph['onehot']\n",
    "        x2_mat = torch.LongTensor(x2)\n",
    "\n",
    "        ret = LinkData(x_s=x2_mat, x_t=x1_mat, y=torch.tensor(y))\n",
    "\n",
    "        if 'edge_index' in options:\n",
    "            if 'edge_index' in conj_graph and 'edge_index' in stmt_graph:\n",
    "                x1_edge_index = conj_graph['edge_index']\n",
    "                x1_edge_index = torch.LongTensor(x1_edge_index)\n",
    "\n",
    "                x2_edge_index = stmt_graph['edge_index']\n",
    "                x2_edge_index = torch.LongTensor(x2_edge_index)\n",
    "\n",
    "                ret.edge_index_t = x1_edge_index\n",
    "                ret.edge_index_s = x2_edge_index\n",
    "            else:\n",
    "                raise NotImplementedError\n",
    "\n",
    "        if 'edge_attr' in options:\n",
    "            if 'edge_attr' in conj_graph and 'edge_attr' in stmt_graph:\n",
    "                x1_edge_attr = conj_graph['edge_attr']\n",
    "                x1_edge_attr = torch.LongTensor(x1_edge_attr)\n",
    "\n",
    "                x2_edge_attr = stmt_graph['edge_attr']\n",
    "                x2_edge_attr = torch.LongTensor(x2_edge_attr)\n",
    "\n",
    "                ret.edge_attr_t = x1_edge_attr\n",
    "                ret.edge_attr_s = x2_edge_attr\n",
    "            else:\n",
    "                raise NotImplementedError\n",
    "\n",
    "        # Edge index used to determine where attention is propagated in Message Passing Attention schemes\n",
    "\n",
    "        if 'attention_edge_index' in options:\n",
    "            if 'attention_edge_index' in conj_graph and 'attention_edge_index' in stmt_graph:\n",
    "                ret.attention_edge_index_t = conj_graph['attention_edge_index']\n",
    "                ret.attention_edge_index_s = stmt_graph['attention_edge_index']\n",
    "            else:\n",
    "                # Default is global attention\n",
    "                ret.attention_edge_index_t = torch.cartesian_prod(torch.arange(x1_mat.size(0)),\n",
    "                                                                  torch.arange(x1_mat.size(0))).transpose(0, 1)\n",
    "\n",
    "                ret.attention_edge_index_s = torch.cartesian_prod(torch.arange(x2_mat.size(0)),\n",
    "                                                                  torch.arange(x2_mat.size(0))).transpose(0, 1)\n",
    "\n",
    "        # todo make data options have possible values i.e. options['softmax_idx'] == AMR, use edges, else directed attention etc.\n",
    "        if 'softmax_idx' in options:\n",
    "            ret.softmax_idx_t = x1_edge_index.size(1)\n",
    "            ret.softmax_idx_s = x2_edge_index.size(1)\n",
    "\n",
    "        return ret\n",
    "\n",
    "    def custom_collate(self, data):\n",
    "        data_list = [self.sample_to_link(d) for d in data]\n",
    "        return Batch.from_data_list(data_list, follow_batch=['x_s', 'x_t'])\n",
    "        # return [self.sample_to_link(d) for d in data]\n",
    "\n",
    "    def setup(self, stage: str):\n",
    "        if stage == \"fit\":\n",
    "            # num_train = self.collection.count_documents\n",
    "            # print (self.collection.find_one())\n",
    "            # self.train_cursor = self.collection.aggregate([{\"$match\": {\"split\": \"train\"}}, {\"$sample\": {\"size\": 10000000}}])\n",
    "            self.train_cursor = self.collection.find({\"split\": \"train\"}).sort(\"rand_idx\", 1)\n",
    "            self.train_data = MyIterableDataset(self.train_cursor, self.config['buf_size'])\n",
    "\n",
    "            # self.val_cursor = self.collection.aggregate([{\"$match\": {\"split\": \"valid\"}}, {\"$sample\": {\"size\": 10000000}}])\n",
    "\n",
    "            self.val_cursor = self.collection.find({\"split\": \"valid\"}).sort(\"rand_idx\",1)\n",
    "            self.val_data = MyIterableDataset(self.val_cursor, self.config['buf_size'])\n",
    "\n",
    "\n",
    "        if stage == \"test\":\n",
    "            self.test_cursor = self.collection.find({\"split\": \"test\"}).sort(\"rand_idx\", 1)\n",
    "            self.test_data = MyIterableDataset(self.test_cursor, self.config['buf_size'])\n",
    "\n",
    "        # if stage == \"predict\":\n",
    "\n",
    "    def train_dataloader(self):\n",
    "        return torch.utils.data.DataLoader(self.train_data, batch_size=self.batch_size, shuffle=False, collate_fn=self.custom_collate)\n",
    "\n",
    "\n",
    "    def val_dataloader(self):\n",
    "        return torch.utils.data.DataLoader(self.val_data, batch_size=self.batch_size, shuffle=False, collate_fn=self.custom_collate)\n",
    "\n",
    "    def test_dataloader(self):\n",
    "        return torch.utils.data.DataLoader(self.test_data, batch_size=self.batch_size, shuffle=False, collate_fn=self.custom_collate)\n",
    "\n",
    "    # def predict_dataloader(self):\n"
   ],
   "metadata": {
    "collapsed": false
   }
  },
  {
   "cell_type": "code",
   "execution_count": null,
   "outputs": [],
   "source": [
    "\n",
    "class LinkData(Data):\n",
    "    def __init__(self, edge_index_s=None,\n",
    "                 x_s=None, edge_index_t=None,\n",
    "                 x_t=None, edge_attr_s=None,\n",
    "                 edge_attr_t=None,\n",
    "                 softmax_idx_s=None,\n",
    "                 softmax_idx_t=None,\n",
    "                 y=None):\n",
    "\n",
    "        super().__init__()\n",
    "\n",
    "        self.edge_index_s = edge_index_s\n",
    "        self.x_s = x_s\n",
    "\n",
    "        self.edge_index_t = edge_index_t\n",
    "        self.x_t = x_t\n",
    "\n",
    "        self.edge_attr_s = edge_attr_s\n",
    "        self.edge_attr_t = edge_attr_t\n",
    "\n",
    "        # softmax index used for AMR model\n",
    "        self.softmax_idx_s = softmax_idx_s\n",
    "        self.softmax_idx_t = softmax_idx_t\n",
    "\n",
    "        self.y = y\n",
    "\n",
    "    def __inc__(self, key, value, *args, **kwargs):\n",
    "        if key == 'edge_index_s' or key == 'attention_edge_index_s':\n",
    "            return self.x_s.size(0)\n",
    "\n",
    "        elif key == 'edge_index_t' or key == 'attention_edge_index_t':\n",
    "            return self.x_t.size(0)\n",
    "\n",
    "        elif key == 'softmax_idx_s':\n",
    "            return self.softmax_idx_s\n",
    "\n",
    "        elif key == 'softmax_idx_t':\n",
    "            return self.softmax_idx_t\n",
    "\n",
    "        return super().__inc__(key, value, *args, **kwargs)\n"
   ],
   "metadata": {
    "collapsed": false
   }
  },
  {
   "cell_type": "code",
   "execution_count": null,
   "outputs": [],
   "source": [
    "pg = PremiseSelectionSeparateGraphs(config = {'buf_size': 128, 'batch_size': 32, 'db_name': 'hol_step','collection_name': 'pretrain_graphs', 'options': ['edge_attr', 'edge_index', 'softmax_idx']})"
   ],
   "metadata": {
    "collapsed": false
   }
  },
  {
   "cell_type": "code",
   "execution_count": null,
   "outputs": [],
   "source": [
    "pg.setup(\"fit\")"
   ],
   "metadata": {
    "collapsed": false
   }
  },
  {
   "cell_type": "code",
   "execution_count": null,
   "outputs": [],
   "source": [
    "dl = pg.train_dataloader()"
   ],
   "metadata": {
    "collapsed": false
   }
  },
  {
   "cell_type": "code",
   "execution_count": null,
   "outputs": [],
   "source": [
    "next(iter(dl))"
   ],
   "metadata": {
    "collapsed": false
   }
  },
  {
   "cell_type": "code",
   "execution_count": 1,
   "outputs": [],
   "source": [
    "import torch\n",
    "from data.utils.dataset import H5DataModule\n",
    "\n"
   ],
   "metadata": {
    "collapsed": false,
    "ExecuteTime": {
     "end_time": "2023-05-11T08:37:53.809203137Z",
     "start_time": "2023-05-11T08:37:49.608991279Z"
    }
   }
  },
  {
   "cell_type": "code",
   "execution_count": 2,
   "outputs": [],
   "source": [
    "data_module = H5DataModule(config = {'data_dir':'/home/sean/Documents/phd/repo/aitp/data/utils/processed_data'})\n"
   ],
   "metadata": {
    "collapsed": false,
    "ExecuteTime": {
     "end_time": "2023-05-11T08:37:53.828503461Z",
     "start_time": "2023-05-11T08:37:53.811360396Z"
    }
   }
  },
  {
   "cell_type": "code",
   "execution_count": 3,
   "outputs": [],
   "source": [
    "data_module.setup('fit')"
   ],
   "metadata": {
    "collapsed": false,
    "ExecuteTime": {
     "end_time": "2023-05-11T08:37:53.831615242Z",
     "start_time": "2023-05-11T08:37:53.814581313Z"
    }
   }
  },
  {
   "cell_type": "code",
   "execution_count": 4,
   "outputs": [
    {
     "name": "stderr",
     "output_type": "stream",
     "text": [
      "4097it [00:02, 1554.73it/s]\n"
     ]
    }
   ],
   "source": [
    "from tqdm import tqdm\n",
    "i = 1\n",
    "for x in tqdm(data_module.val_dataloader()):\n",
    "    i += 1\n",
    "    if i > 3000000:\n",
    "        print (\"looped\")\n",
    "        break\n"
   ],
   "metadata": {
    "collapsed": false,
    "ExecuteTime": {
     "end_time": "2023-05-11T08:37:56.481825542Z",
     "start_time": "2023-05-11T08:37:53.835323087Z"
    }
   }
  }
 ],
 "metadata": {
  "kernelspec": {
   "name": "python3",
   "language": "python",
   "display_name": "Python 3 (ipykernel)"
  },
  "language_info": {
   "codemirror_mode": {
    "name": "ipython",
    "version": 2
   },
   "file_extension": ".py",
   "mimetype": "text/x-python",
   "name": "python",
   "nbconvert_exporter": "python",
   "pygments_lexer": "ipython2",
   "version": "2.7.6"
  }
 },
 "nbformat": 4,
 "nbformat_minor": 0
}
