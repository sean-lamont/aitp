{
 "cells": [
  {
   "cell_type": "code",
   "execution_count": null,
   "metadata": {
    "collapsed": true
   },
   "outputs": [],
   "source": [
    "from scipy._lib._test_ccallback import test_get_data_capsule\n",
    "\n",
    "from models.graph_transformers.SAT.sat import models\n",
    "from models.graph_transformers.SAT.sat import layers\n",
    "import torch\n",
    "import torch_geometric\n",
    "from torch_geometric.data import Data\n",
    "from torch_geometric.loader import DataLoader\n",
    "\n",
    "\n",
    "def ptr_to_complete_edge_index(ptr):\n",
    "    from_lists = [torch.arange(ptr[i], ptr[i + 1]).repeat_interleave(ptr[i + 1] - ptr[i]) for i in range(len(ptr) - 1)]\n",
    "    to_lists = [torch.arange(ptr[i], ptr[i + 1]).repeat(ptr[i + 1] - ptr[i]) for i in range(len(ptr) - 1)]\n",
    "    combined_complete_edge_index = torch.vstack((torch.cat(from_lists, dim=0), torch.cat(to_lists, dim=0)))\n",
    "    return combined_complete_edge_index\n",
    "test_data = torch.FloatTensor([1., 2., 3., 4., 5.]).unsqueeze(1)\n",
    "edge_index = torch.LongTensor([[0,1,2],[1, 2, 3]])\n",
    "\n",
    "test_graph = Data(x=test_data, edge_index=edge_index)\n",
    "test_data2 = torch.FloatTensor([-1., -2., -3., -4., 10]).unsqueeze(1)\n",
    "edge_index2 = torch.LongTensor([[0,1],[1, 2]])\n",
    "test_graph2 = Data(x=test_data2, edge_index=edge_index2)\n",
    "loader = iter(DataLoader([test_graph, test_graph2], batch_size=2))\n",
    "batch = next(loader)\n",
    "\n",
    "\n",
    "batch.complete_edge_index = torch.LongTensor([[0,1,5],[1,2,6]])\n",
    "# batch.complete_edge_index = ptr_to_complete_edge_index(batch.ptr)\n",
    "\n",
    "\n",
    "model = models.GraphTransformer(in_size=1,\n",
    "                                num_class=1,\n",
    "                                in_embed=False,\n",
    "                                d_model=3,\n",
    "                                dim_feedforward=2,\n",
    "                                num_heads=1,\n",
    "                                num_layers=1,\n",
    "                                abs_pe=False,\n",
    "                                abs_pe_dim=None,\n",
    "\n",
    "                                use_edge_attr=False,\n",
    "                                num_edge_features=0,\n",
    "                                dropout=0.,\n",
    "                                k_hop=2)\n",
    "\n",
    "\n",
    "#model(batch)"
   ]
  },
  {
   "cell_type": "code",
   "execution_count": null,
   "outputs": [],
   "source": [
    "amrlayer = layers.AttentionAMR(1, 0, 1, 0, True).cuda()"
   ],
   "metadata": {
    "collapsed": false
   }
  },
  {
   "cell_type": "code",
   "execution_count": null,
   "outputs": [],
   "source": [
    "batch.ptr"
   ],
   "metadata": {
    "collapsed": false
   }
  },
  {
   "cell_type": "code",
   "execution_count": null,
   "outputs": [],
   "source": [
    "edge_index_source = torch.LongTensor([[i for i in torch.arange(batch.edge_index.shape[1])], [batch.edge_index[0][i] for i in torch.arange(batch.edge_index.shape[1])]]).cuda()\n",
    "edge_index_target = torch.LongTensor([[i for i in torch.arange(batch.edge_index.shape[1])], [batch.edge_index[1][i] for i in torch.arange(batch.edge_index.shape[1])]]).cuda()\n",
    "\n",
    "amrlayer(batch.x.cuda(), batch.x.cuda(), batch.edge_index.cuda(), edge_index_source, edge_index_target, ptr=batch.ptr.cuda())"
   ],
   "metadata": {
    "collapsed": false
   }
  },
  {
   "cell_type": "code",
   "execution_count": null,
   "outputs": [],
   "source": [
    "embed = torch.nn.Linear(1000, 128)"
   ],
   "metadata": {
    "collapsed": false
   }
  },
  {
   "cell_type": "code",
   "execution_count": null,
   "outputs": [],
   "source": [
    "import pickle\n",
    "with open(\"data/hol4/data/torch_graph_dict.pk\", \"rb\") as f:\n",
    "    tg = pickle.load(f)\n",
    "test_graph_1 = tg[list(tg.keys())[0]]\n",
    "test_graph_1\n",
    "test_graph_2 = tg[list(tg.keys())[2]]\n",
    "test_graph_2\n",
    "loader = iter(DataLoader([test_graph_1, test_graph_2], batch_size=2))\n",
    "batch = next(loader)"
   ],
   "metadata": {
    "collapsed": false
   }
  },
  {
   "cell_type": "code",
   "execution_count": null,
   "outputs": [],
   "source": [
    "\n",
    "from models.graph_transformers.SAT.sat import layers\n",
    "amrlayer = layers.AttentionAMR(128,0,2,0,True)\n",
    "\n",
    "x = embed(batch.x)\n",
    "\n",
    "out_s, out_t = amrlayer(x, x, batch.edge_index)"
   ],
   "metadata": {
    "collapsed": false
   }
  },
  {
   "cell_type": "code",
   "execution_count": null,
   "outputs": [],
   "source": [
    "amrlayer(out_s, out_t, batch.edge_index)"
   ],
   "metadata": {
    "collapsed": false
   }
  },
  {
   "cell_type": "code",
   "execution_count": null,
   "outputs": [],
   "source": [
    "batch.edge_index"
   ],
   "metadata": {
    "collapsed": false
   }
  },
  {
   "cell_type": "code",
   "execution_count": null,
   "outputs": [],
   "source": [
    "\n",
    "batch.edge_attr = batch.edge_attr.long()\n",
    "model = models.AMRTransformer(in_size=1000,num_class=0,d_model=128,num_heads=4,dim_feedforward=128,dropout=0.1,use_edge_attr=True,num_layers=1,layer_norm=True,in_embed=False).cuda()\n",
    "model(batch.cuda())"
   ],
   "metadata": {
    "collapsed": false
   }
  },
  {
   "cell_type": "code",
   "execution_count": null,
   "outputs": [],
   "source": [
    "torch.tensor([1.,2.,3.,4.,5.]).to(torch.tensor([1.,1.,2.,5,5234,643,2345]))"
   ],
   "metadata": {
    "collapsed": false
   }
  },
  {
   "cell_type": "code",
   "execution_count": null,
   "outputs": [],
   "source": [
    "batch.x"
   ],
   "metadata": {
    "collapsed": false
   }
  },
  {
   "cell_type": "code",
   "execution_count": null,
   "outputs": [],
   "source": [],
   "metadata": {
    "collapsed": false
   }
  },
  {
   "cell_type": "code",
   "execution_count": null,
   "outputs": [],
   "source": [],
   "metadata": {
    "collapsed": false,
    "ExecuteTime": {
     "end_time": "2023-05-05T04:36:35.844833211Z",
     "start_time": "2023-05-05T04:36:35.785770761Z"
    }
   }
  },
  {
   "cell_type": "code",
   "execution_count": 2,
   "outputs": [
    {
     "name": "stdout",
     "output_type": "stream",
     "text": [
      "torch.Size([10, 8])\n",
      "cls\n",
      "torch.Size([1, 2, 8])\n",
      "R\n",
      "torch.Size([5, 2, 8])\n"
     ]
    },
    {
     "data": {
      "text/plain": "torch.Size([2, 8])"
     },
     "execution_count": 2,
     "metadata": {},
     "output_type": "execute_result"
    }
   ],
   "source": [
    "import torch\n",
    "from models.graph_transformers.SAT.sat.layers import AttentionRelations\n",
    "model = AttentionRelations(embed_dim=8, edge_dim=32)\n",
    "x = torch.rand(11, 8)\n",
    "edge_index = torch.LongTensor([[0,1,2,3,4,9,8,7,6,8],[4,3,2,1,0,7,8,8,6,6]])\n",
    "edge_attr = torch.LongTensor([0,0,1,3,0,1,2,3,2,1])\n",
    "softmax_idx = [5]\n",
    "model(x, edge_index, softmax_idx, edge_attr)"
   ],
   "metadata": {
    "collapsed": false,
    "ExecuteTime": {
     "end_time": "2023-05-05T04:40:14.922008686Z",
     "start_time": "2023-05-05T04:40:14.884174530Z"
    }
   }
  },
  {
   "cell_type": "code",
   "execution_count": 9,
   "outputs": [
    {
     "data": {
      "text/plain": "(tensor([], size=(0, 8)),\n tensor([[0.9918, 0.1399, 0.9252, 0.5609, 0.2900, 0.4016, 0.1394, 0.7816],\n         [0.0530, 0.7915, 0.4800, 0.6560, 0.4102, 0.3130, 0.6216, 0.5257],\n         [0.8181, 0.1945, 0.2962, 0.6820, 0.1563, 0.4805, 0.4853, 0.2181],\n         [0.2078, 0.6373, 0.8061, 0.9837, 0.1156, 0.7052, 0.2368, 0.8982],\n         [0.6767, 0.6834, 0.0777, 0.7179, 0.4268, 0.3100, 0.6686, 0.3017]]),\n tensor([[0.5775, 0.3654, 0.7138, 0.3392, 0.1116, 0.3705, 0.6395, 0.7384],\n         [0.1987, 0.1943, 0.5168, 0.1664, 0.3289, 0.7054, 0.9939, 0.4983],\n         [0.0591, 0.2129, 0.7034, 0.7597, 0.5017, 0.4793, 0.8638, 0.4914],\n         [0.9856, 0.4725, 0.5217, 0.5346, 0.4938, 0.3722, 0.4069, 0.9200],\n         [0.0018, 0.2812, 0.2255, 0.5144, 0.7758, 0.5511, 0.2027, 0.8557]]),\n tensor([[0.0227, 0.6568, 0.1133, 0.3209, 0.8643, 0.5390, 0.9473, 0.7103]]))"
     },
     "execution_count": 9,
     "metadata": {},
     "output_type": "execute_result"
    }
   ],
   "source": [
    "torch.tensor_split(x, [0,5,10])"
   ],
   "metadata": {
    "collapsed": false,
    "ExecuteTime": {
     "end_time": "2023-05-05T04:35:32.871885796Z",
     "start_time": "2023-05-05T04:35:32.840840078Z"
    }
   }
  }
 ],
 "metadata": {
  "kernelspec": {
   "name": "python3",
   "language": "python",
   "display_name": "Python 3 (ipykernel)"
  },
  "language_info": {
   "codemirror_mode": {
    "name": "ipython",
    "version": 2
   },
   "file_extension": ".py",
   "mimetype": "text/x-python",
   "name": "python",
   "nbconvert_exporter": "python",
   "pygments_lexer": "ipython2",
   "version": "2.7.6"
  }
 },
 "nbformat": 4,
 "nbformat_minor": 0
}
