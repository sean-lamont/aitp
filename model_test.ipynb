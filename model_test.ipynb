{
 "cells": [
  {
   "cell_type": "code",
   "execution_count": 4,
   "metadata": {
    "collapsed": true,
    "ExecuteTime": {
     "end_time": "2023-05-07T05:21:08.712826399Z",
     "start_time": "2023-05-07T05:21:06.943949369Z"
    }
   },
   "outputs": [
    {
     "name": "stderr",
     "output_type": "stream",
     "text": [
      "\n",
      "KeyboardInterrupt\n",
      "\n"
     ]
    }
   ],
   "source": [
    "from scipy._lib._test_ccallback import test_get_data_capsule\n",
    "\n",
    "from models.graph_transformers.SAT.sat import models\n",
    "from models.graph_transformers.SAT.sat import layers\n",
    "import torch\n",
    "import torch_geometric\n",
    "from torch_geometric.data import Data\n",
    "from torch_geometric.loader import DataLoader\n",
    "\n",
    "\n",
    "def ptr_to_complete_edge_index(ptr):\n",
    "    from_lists = [torch.arange(ptr[i], ptr[i + 1]).repeat_interleave(ptr[i + 1] - ptr[i]) for i in range(len(ptr) - 1)]\n",
    "    to_lists = [torch.arange(ptr[i], ptr[i + 1]).repeat(ptr[i + 1] - ptr[i]) for i in range(len(ptr) - 1)]\n",
    "    combined_complete_edge_index = torch.vstack((torch.cat(from_lists, dim=0), torch.cat(to_lists, dim=0)))\n",
    "    return combined_complete_edge_index\n",
    "test_data = torch.FloatTensor([1., 2., 3., 4., 5.]).unsqueeze(1)\n",
    "edge_index = torch.LongTensor([[0,1,2],[1, 2, 3]])\n",
    "\n",
    "test_graph = Data(x=test_data, edge_index=edge_index)\n",
    "test_data2 = torch.FloatTensor([-1., -2., -3., -4., 10]).unsqueeze(1)\n",
    "edge_index2 = torch.LongTensor([[0,1],[1, 2]])\n",
    "test_graph2 = Data(x=test_data2, edge_index=edge_index2)\n",
    "loader = iter(DataLoader([test_graph, test_graph2], batch_size=2))\n",
    "batch = next(loader)\n",
    "\n",
    "\n",
    "batch.complete_edge_index = torch.LongTensor([[0,1,5],[1,2,6]])\n",
    "# batch.complete_edge_index = ptr_to_complete_edge_index(batch.ptr)\n",
    "\n",
    "\n",
    "model = models.GraphTransformer(in_size=1,\n",
    "                                num_class=1,\n",
    "                                in_embed=False,\n",
    "                                d_model=3,\n",
    "                                dim_feedforward=2,\n",
    "                                num_heads=1,\n",
    "                                num_layers=1,\n",
    "                                abs_pe=False,\n",
    "                                abs_pe_dim=None,\n",
    "\n",
    "                                use_edge_attr=False,\n",
    "                                num_edge_features=0,\n",
    "                                dropout=0.,\n",
    "                                k_hop=2)\n",
    "\n",
    "\n",
    "#model(batch)"
   ]
  },
  {
   "cell_type": "code",
   "execution_count": null,
   "outputs": [],
   "source": [
    "amrlayer = layers.AttentionAMR(1, 0, 1, 0, True).cuda()"
   ],
   "metadata": {
    "collapsed": false
   }
  },
  {
   "cell_type": "code",
   "execution_count": null,
   "outputs": [],
   "source": [
    "batch.ptr"
   ],
   "metadata": {
    "collapsed": false
   }
  },
  {
   "cell_type": "code",
   "execution_count": null,
   "outputs": [],
   "source": [
    "edge_index_source = torch.LongTensor([[i for i in torch.arange(batch.edge_index.shape[1])], [batch.edge_index[0][i] for i in torch.arange(batch.edge_index.shape[1])]]).cuda()\n",
    "edge_index_target = torch.LongTensor([[i for i in torch.arange(batch.edge_index.shape[1])], [batch.edge_index[1][i] for i in torch.arange(batch.edge_index.shape[1])]]).cuda()\n",
    "\n",
    "amrlayer(batch.x.cuda(), batch.x.cuda(), batch.edge_index.cuda(), edge_index_source, edge_index_target, ptr=batch.ptr.cuda())"
   ],
   "metadata": {
    "collapsed": false
   }
  },
  {
   "cell_type": "code",
   "execution_count": null,
   "outputs": [],
   "source": [
    "embed = torch.nn.Linear(1000, 128)"
   ],
   "metadata": {
    "collapsed": false
   }
  },
  {
   "cell_type": "code",
   "execution_count": null,
   "outputs": [],
   "source": [
    "import pickle\n",
    "with open(\"data/hol4/data/torch_graph_dict.pk\", \"rb\") as f:\n",
    "    tg = pickle.load(f)\n",
    "test_graph_1 = tg[list(tg.keys())[0]]\n",
    "test_graph_1\n",
    "test_graph_2 = tg[list(tg.keys())[2]]\n",
    "test_graph_2\n",
    "loader = iter(DataLoader([test_graph_1, test_graph_2], batch_size=2))\n",
    "batch = next(loader)"
   ],
   "metadata": {
    "collapsed": false
   }
  },
  {
   "cell_type": "code",
   "execution_count": null,
   "outputs": [],
   "source": [
    "\n",
    "from models.graph_transformers.SAT.sat import layers\n",
    "amrlayer = layers.AttentionAMR(128,0,2,0,True)\n",
    "\n",
    "x = embed(batch.x)\n",
    "\n",
    "out_s, out_t = amrlayer(x, x, batch.edge_index)"
   ],
   "metadata": {
    "collapsed": false
   }
  },
  {
   "cell_type": "code",
   "execution_count": null,
   "outputs": [],
   "source": [
    "amrlayer(out_s, out_t, batch.edge_index)"
   ],
   "metadata": {
    "collapsed": false
   }
  },
  {
   "cell_type": "code",
   "execution_count": null,
   "outputs": [],
   "source": [
    "batch.edge_index"
   ],
   "metadata": {
    "collapsed": false
   }
  },
  {
   "cell_type": "code",
   "execution_count": null,
   "outputs": [],
   "source": [
    "\n",
    "batch.edge_attr = batch.edge_attr.long()\n",
    "model = models.AMRTransformer(in_size=1000,num_class=0,d_model=128,num_heads=4,dim_feedforward=128,dropout=0.1,use_edge_attr=True,num_layers=1,layer_norm=True,in_embed=False).cuda()\n",
    "model(batch.cuda())"
   ],
   "metadata": {
    "collapsed": false
   }
  },
  {
   "cell_type": "code",
   "execution_count": null,
   "outputs": [],
   "source": [
    "torch.tensor([1.,2.,3.,4.,5.]).to(torch.tensor([1.,1.,2.,5,5234,643,2345]))"
   ],
   "metadata": {
    "collapsed": false
   }
  },
  {
   "cell_type": "code",
   "execution_count": null,
   "outputs": [],
   "source": [
    "batch.x"
   ],
   "metadata": {
    "collapsed": false
   }
  },
  {
   "cell_type": "code",
   "execution_count": null,
   "outputs": [],
   "source": [],
   "metadata": {
    "collapsed": false
   }
  },
  {
   "cell_type": "code",
   "execution_count": null,
   "outputs": [],
   "source": [],
   "metadata": {
    "collapsed": false
   }
  },
  {
   "cell_type": "code",
   "execution_count": null,
   "outputs": [],
   "source": [
    "import torch\n",
    "from models.graph_transformers.SAT.sat.layers import AttentionRelations\n",
    "model = AttentionRelations(embed_dim=8, edge_dim=32)\n",
    "x = torch.rand(11, 8)\n",
    "edge_index = torch.LongTensor([[0,1,2,3,4,9,8,7,6,8],[4,3,2,1,0,7,8,8,6,6]])\n",
    "edge_attr = torch.LongTensor([0,0,1,3,0,1,2,3,2,1])\n",
    "softmax_idx = [5]\n",
    "model(x, edge_index, softmax_idx, edge_attr)"
   ],
   "metadata": {
    "collapsed": false
   }
  },
  {
   "cell_type": "code",
   "execution_count": null,
   "outputs": [],
   "source": [
    "torch.tensor_split(x, [0,5,10])"
   ],
   "metadata": {
    "collapsed": false
   }
  },
  {
   "cell_type": "code",
   "execution_count": null,
   "outputs": [],
   "source": [
    "'''\n",
    "Test for dropout memory issues using TransformerEncoderLayer\n",
    "'''"
   ],
   "metadata": {
    "collapsed": false
   }
  },
  {
   "cell_type": "code",
   "execution_count": 1,
   "outputs": [],
   "source": [
    "import torch\n",
    "from models.transformer_encoder_model import TransformerEmbedding\n"
   ],
   "metadata": {
    "collapsed": false,
    "ExecuteTime": {
     "end_time": "2023-05-07T05:21:36.162764241Z",
     "start_time": "2023-05-07T05:21:35.240813892Z"
    }
   }
  },
  {
   "cell_type": "code",
   "execution_count": 2,
   "outputs": [],
   "source": [
    "\n",
    "test_input = torch.rand((1024,32,128)).cuda()\n",
    "# test_input = torch.randint(100, (1024,32)).cuda()\n",
    "# test_input.shape\n",
    "\n",
    "\n",
    "# test_model = torch.nn.TransformerEncoderLayer(128,4,512,dropout=0).cuda()\n",
    "\n",
    "\n",
    "\n",
    "\n",
    "encoder_layers = torch.nn.TransformerEncoderLayer(128, 4, 2, dropout=0.0)\n",
    "\n",
    "test_model = torch.nn.TransformerEncoder(encoder_layers, 2).cuda()\n",
    "\n",
    "\n",
    "\n",
    "# test_model = TransformerEmbedding(100,128,4,512,2,dropout=0.0,in_embed=False,global_pool=False).cuda()\n",
    "\n",
    "op = torch.optim.Adam(test_model.parameters())\n",
    "op.zero_grad()\n",
    "\n",
    "out = test_model(test_input)\n",
    "loss = torch.sum(out)\n",
    "loss.backward()\n",
    "\n",
    "op.step()"
   ],
   "metadata": {
    "collapsed": false,
    "ExecuteTime": {
     "end_time": "2023-05-07T05:21:36.572678620Z",
     "start_time": "2023-05-07T05:21:36.329227547Z"
    }
   }
  },
  {
   "cell_type": "code",
   "execution_count": null,
   "outputs": [],
   "source": [
    "# using standard TransformerEncoderLayer API, get very large memory increase when using dropout"
   ],
   "metadata": {
    "collapsed": false
   }
  },
  {
   "cell_type": "code",
   "execution_count": 4,
   "outputs": [],
   "source": [
    "import pymongo\n",
    "import torch"
   ],
   "metadata": {
    "collapsed": false,
    "ExecuteTime": {
     "end_time": "2023-05-07T06:50:18.042721151Z",
     "start_time": "2023-05-07T06:50:18.038958036Z"
    }
   }
  },
  {
   "cell_type": "code",
   "execution_count": 5,
   "outputs": [],
   "source": [
    "class DatabaseDataset(torch.utils.data.Dataset):\n",
    "    def __init__(self, query, batch_size, collection: str, database: str):\n",
    "        self.batch_size = batch_size\n",
    "\n",
    "        client = pymongo.MongoClient()\n",
    "        self.db = client[database]\n",
    "        self.collection = self.db[collection]\n",
    "        self.query = query\n",
    "\n",
    "        # Or non-approximate method, if the approximate method\n",
    "        # returns smaller number of items you should be fine\n",
    "        # self.length = self.db.estimated_document_count()\n",
    "\n",
    "        self.cursor = None\n",
    "\n",
    "    def __enter__(self):\n",
    "        # Ensure that this find returns the same order of query every time\n",
    "        # If not, you might get duplicated data\n",
    "        # It is rather unlikely (depending on batch size), shouldn't be a problem\n",
    "        # for 20 million samples anyway\n",
    "        self.cursor = self.db.find(self.query)\n",
    "        return self\n",
    "\n",
    "    def shuffle(self):\n",
    "        # Find a way to shuffle data so it is returned in different order\n",
    "        # If that happens out of the box you might be fine without it actually\n",
    "        pass\n",
    "\n",
    "    def __exit__(self, *_, **__):\n",
    "        # Or anything else how to close the connection\n",
    "        self.cursor.close()\n",
    "\n",
    "    def __len__(self):\n",
    "        return len(self.examples)\n",
    "\n",
    "    def __getitem__(self, index):\n",
    "        # Read takes long, hence if you can load a batch of documents it should speed things up\n",
    "        examples = self.cursor[index * self.batch_size : (index + 1) * self.batch_size]\n",
    "\n",
    "        # Do something with this data\n",
    "        ...\n",
    "        # Return the whole batch\n",
    "        return data, labels"
   ],
   "metadata": {
    "collapsed": false,
    "ExecuteTime": {
     "end_time": "2023-05-07T06:50:18.833407380Z",
     "start_time": "2023-05-07T06:50:18.832048510Z"
    }
   }
  },
  {
   "cell_type": "code",
   "execution_count": null,
   "outputs": [],
   "source": [
    "train_cursor = split_collection.aggregate([{\"$match\": {\"split\": \"train\"}}, {\"$sample\": {\"size\": 10000000}}])\n",
    "batches = get_batches(train_cursor, self.batch_size)\n"
   ],
   "metadata": {
    "collapsed": false
   }
  }
 ],
 "metadata": {
  "kernelspec": {
   "name": "python3",
   "language": "python",
   "display_name": "Python 3 (ipykernel)"
  },
  "language_info": {
   "codemirror_mode": {
    "name": "ipython",
    "version": 2
   },
   "file_extension": ".py",
   "mimetype": "text/x-python",
   "name": "python",
   "nbconvert_exporter": "python",
   "pygments_lexer": "ipython2",
   "version": "2.7.6"
  }
 },
 "nbformat": 4,
 "nbformat_minor": 0
}
