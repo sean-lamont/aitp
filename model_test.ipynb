{
 "cells": [
  {
   "cell_type": "code",
   "execution_count": 7,
   "metadata": {
    "collapsed": true,
    "ExecuteTime": {
     "start_time": "2023-04-25T20:04:46.137533Z",
     "end_time": "2023-04-25T20:04:46.185566Z"
    }
   },
   "outputs": [
    {
     "name": "stdout",
     "output_type": "stream",
     "text": [
      "running\n",
      "Attn network Attention()\n",
      "running\n",
      "qk (torch.Size([10, 3]), torch.Size([10, 3])), v: torch.Size([10, 3])\n",
      "qk (tensor([[ 0.1219, -0.3435,  1.1542],\n",
      "        [ 0.2439, -0.6870,  2.3085],\n",
      "        [ 0.3658, -1.0305,  3.4627],\n",
      "        [ 0.4877, -1.3740,  4.6170],\n",
      "        [ 0.6097, -1.7175,  5.7712],\n",
      "        [-0.1219,  0.3435, -1.1542],\n",
      "        [-0.2439,  0.6870, -2.3085],\n",
      "        [-0.3658,  1.0305, -3.4627],\n",
      "        [-0.4877,  1.3740, -4.6170],\n",
      "        [ 1.2194, -3.4350, 11.5424]], grad_fn=<SplitBackward0>), tensor([[-0.6299, -0.0785,  0.1267],\n",
      "        [-1.2598, -0.1571,  0.2533],\n",
      "        [-1.8898, -0.2356,  0.3800],\n",
      "        [-2.5197, -0.3142,  0.5067],\n",
      "        [-3.1496, -0.3927,  0.6334],\n",
      "        [ 0.6299,  0.0785, -0.1267],\n",
      "        [ 1.2598,  0.1571, -0.2533],\n",
      "        [ 1.8898,  0.2356, -0.3800],\n",
      "        [ 2.5197,  0.3142, -0.5067],\n",
      "        [-6.2992, -0.7855,  1.2667]], grad_fn=<SplitBackward0>)), v: tensor([[ 0.2739,  0.1866, -0.7281],\n",
      "        [ 0.5478,  0.3732, -1.4561],\n",
      "        [ 0.8216,  0.5597, -2.1842],\n",
      "        [ 1.0955,  0.7463, -2.9122],\n",
      "        [ 1.3694,  0.9329, -3.6403],\n",
      "        [-0.2739, -0.1866,  0.7281],\n",
      "        [-0.5478, -0.3732,  1.4561],\n",
      "        [-0.8216, -0.5597,  2.1842],\n",
      "        [-1.0955, -0.7463,  2.9122],\n",
      "        [ 2.7388,  1.8658, -7.2805]], grad_fn=<MmBackward0>)\n",
      "qkj: tensor([[ 0.1219, -0.3435,  1.1542],\n",
      "        [ 0.2439, -0.6870,  2.3085],\n",
      "        [-0.1219,  0.3435, -1.1542]], grad_fn=<IndexSelectBackward0>), qki: tensor([[-1.2598, -0.1571,  0.2533],\n",
      "        [-1.8898, -0.2356,  0.3800],\n",
      "        [ 1.2598,  0.1571, -0.2533]], grad_fn=<IndexSelectBackward0>), vj: tensor([[ 0.2739,  0.1866, -0.7281],\n",
      "        [ 0.5478,  0.3732, -1.4561],\n",
      "        [-0.2739, -0.1866,  0.7281]], grad_fn=<IndexSelectBackward0>)\n",
      "message: v_j torch.Size([3, 3]), qk_j: torch.Size([3, 3]), index: tensor([1, 2, 6]), ptr: None, size_i: 10\n",
      "message after: v_j torch.Size([3, 1, 3]), qk_j: torch.Size([3, 1, 3]), index: tensor([1, 2, 6]), ptr: None, size_i: 10\n",
      "torch.Size([3, 1])\n",
      "qkj: tensor([[-0.6299, -0.0785,  0.1267],\n",
      "        [-1.2598, -0.1571,  0.2533],\n",
      "        [ 0.6299,  0.0785, -0.1267]], grad_fn=<IndexSelectBackward0>), qki: tensor([[-1.2598, -0.1571,  0.2533],\n",
      "        [-1.8898, -0.2356,  0.3800],\n",
      "        [ 1.2598,  0.1571, -0.2533]], grad_fn=<IndexSelectBackward0>), vj: tensor([[ 0.2739,  0.1866, -0.7281],\n",
      "        [ 0.5478,  0.3732, -1.4561],\n",
      "        [-0.2739, -0.1866,  0.7281]], grad_fn=<IndexSelectBackward0>)\n",
      "message: v_j torch.Size([3, 3]), qk_j: torch.Size([3, 3]), index: tensor([1, 2, 6]), ptr: None, size_i: 10\n",
      "message after: v_j torch.Size([3, 1, 3]), qk_j: torch.Size([3, 1, 3]), index: tensor([1, 2, 6]), ptr: None, size_i: 10\n",
      "torch.Size([3, 1])\n"
     ]
    },
    {
     "data": {
      "text/plain": "tensor([[ 1.3049,  0.1429, -1.1247],\n        [ 1.3119, -0.1986,  1.4114]], grad_fn=<CppNode<ScatterMax>>)"
     },
     "execution_count": 7,
     "metadata": {},
     "output_type": "execute_result"
    }
   ],
   "source": [
    "from scipy._lib._test_ccallback import test_get_data_capsule\n",
    "\n",
    "from models.graph_transformers.SAT.sat import models\n",
    "import torch\n",
    "import torch_geometric\n",
    "from torch_geometric.data import Data\n",
    "from torch_geometric.loader import DataLoader\n",
    "\n",
    "def ptr_to_complete_edge_index(ptr):\n",
    "    from_lists = [torch.arange(ptr[i], ptr[i + 1]).repeat_interleave(ptr[i + 1] - ptr[i]) for i in range(len(ptr) - 1)]\n",
    "    to_lists = [torch.arange(ptr[i], ptr[i + 1]).repeat(ptr[i + 1] - ptr[i]) for i in range(len(ptr) - 1)]\n",
    "    combined_complete_edge_index = torch.vstack((torch.cat(from_lists, dim=0), torch.cat(to_lists, dim=0)))\n",
    "    return combined_complete_edge_index\n",
    "test_data = torch.FloatTensor([1., 2., 3., 4., 5.]).unsqueeze(1)\n",
    "edge_index = torch.LongTensor([[0,1,2],[1, 2, 3]])\n",
    "\n",
    "test_graph = Data(x=test_data, edge_index=edge_index)\n",
    "test_data2 = torch.FloatTensor([-1., -2., -3., -4., 10]).unsqueeze(1)\n",
    "edge_index2 = torch.LongTensor([[0,1],[1, 2]])\n",
    "test_graph2 = Data(x=test_data2, edge_index=edge_index2)\n",
    "loader = iter(DataLoader([test_graph, test_graph2], batch_size=2))\n",
    "batch = next(loader)\n",
    "\n",
    "\n",
    "batch.complete_edge_index = torch.LongTensor([[0,1,5],[1,2,6]])\n",
    "# batch.complete_edge_index = ptr_to_complete_edge_index(batch.ptr)\n",
    "\n",
    "\n",
    "model = models.GraphTransformer(in_size=1,\n",
    "                                num_class=1,\n",
    "                                in_embed=False,\n",
    "                                d_model=3,\n",
    "                                dim_feedforward=2,\n",
    "                                num_heads=1,\n",
    "                                num_layers=1,\n",
    "                                abs_pe=False,\n",
    "                                abs_pe_dim=None,\n",
    "                                use_edge_attr=False,\n",
    "                                num_edge_features=0,\n",
    "                                dropout=0.,\n",
    "                                k_hop=2)\n",
    "\n",
    "\n",
    "model(batch)"
   ]
  },
  {
   "cell_type": "code",
   "execution_count": 1,
   "outputs": [
    {
     "ename": "NameError",
     "evalue": "name 'batch' is not defined",
     "output_type": "error",
     "traceback": [
      "\u001B[0;31m---------------------------------------------------------------------------\u001B[0m",
      "\u001B[0;31mNameError\u001B[0m                                 Traceback (most recent call last)",
      "Cell \u001B[0;32mIn [1], line 1\u001B[0m\n\u001B[0;32m----> 1\u001B[0m batch\u001B[38;5;241m.\u001B[39medge_index\n",
      "\u001B[0;31mNameError\u001B[0m: name 'batch' is not defined"
     ]
    }
   ],
   "source": [
    "batch.edge_index"
   ],
   "metadata": {
    "collapsed": false,
    "ExecuteTime": {
     "start_time": "2023-04-25T18:39:45.875540Z",
     "end_time": "2023-04-25T18:39:45.973738Z"
    }
   }
  },
  {
   "cell_type": "code",
   "execution_count": null,
   "outputs": [],
   "source": [],
   "metadata": {
    "collapsed": false
   }
  }
 ],
 "metadata": {
  "kernelspec": {
   "name": "torch",
   "language": "python",
   "display_name": "torch"
  },
  "language_info": {
   "codemirror_mode": {
    "name": "ipython",
    "version": 2
   },
   "file_extension": ".py",
   "mimetype": "text/x-python",
   "name": "python",
   "nbconvert_exporter": "python",
   "pygments_lexer": "ipython2",
   "version": "2.7.6"
  }
 },
 "nbformat": 4,
 "nbformat_minor": 0
}
