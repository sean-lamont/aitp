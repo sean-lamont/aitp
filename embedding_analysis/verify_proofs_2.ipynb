{
 "cells": [
  {
   "cell_type": "code",
   "execution_count": null,
   "metadata": {
    "collapsed": true
   },
   "outputs": [],
   "source": [
    "import pandas as pd\n",
    "import json\n",
    "import pickle\n",
    "import matplotlib.pyplot as plt\n",
    "import torch\n",
    "import random\n",
    "import torch.nn.functional as F"
   ]
  },
  {
   "cell_type": "code",
   "execution_count": null,
   "outputs": [],
   "source": [
    "with open(\"expression_db.json\") as f:\n",
    "    db = json.load(f)\n",
    "\n",
    "reverse_database = {(value[0], value[1]) : key for key, value in db.items()}"
   ],
   "metadata": {
    "collapsed": false
   }
  },
  {
   "cell_type": "code",
   "execution_count": null,
   "outputs": [],
   "source": [
    "all_premises = []\n",
    "premise_labels = []\n",
    "premise_idx = []\n",
    "# take most frequent libraries for analysis\n",
    "for i, (key, value) in enumerate(db.items()):\n",
    "    if value[0] == \"pred_set\" or value[0] == \"relation\" or value[0] == \"list\":# or value[0] == \"rich_list\" or value[0] == \"prim_rec\": #or value[0] == \"pred_set\" or value[0] == \"set\":\n",
    "        all_premises.append(key)\n",
    "        premise_labels.append(value[0])\n",
    "        premise_idx.append(i)"
   ],
   "metadata": {
    "collapsed": false
   }
  },
  {
   "cell_type": "code",
   "execution_count": null,
   "outputs": [],
   "source": [
    "\n",
    "with open('vanilla_embs.pk', 'rb') as f:\n",
    "    original_embeddings = pickle.load(f)\n",
    "\n",
    "with open('gnn_embs.pk', 'rb') as f:\n",
    "    gnn_embeddings = pickle.load(f)\n"
   ],
   "metadata": {
    "collapsed": false
   }
  },
  {
   "cell_type": "code",
   "execution_count": null,
   "outputs": [],
   "source": [
    "from sklearn.manifold import TSNE\n",
    "import plotly.express as px\n",
    "def plot_reps(reps, labels, n_components, graph_name):\n",
    "    tsne = TSNE(n_components)\n",
    "    tsne_result = tsne.fit_transform(reps.detach().cpu().numpy())\n",
    "\n",
    "    color_dict = {}\n",
    "\n",
    "    i = 0\n",
    "\n",
    "    labels_ = list(set(labels))\n",
    "    for label in labels_:\n",
    "        color_dict[label] = i\n",
    "        i += 1\n",
    "\n",
    "    color_dict[\"POI1\"] = i + 1\n",
    "    color_dict[\"POI2\"] = i + 1\n",
    "    color_dict[\"POI3\"] = i + 1\n",
    "    color_dict[\"POI4\"] = i + 1\n",
    "\n",
    "    if n_components == 3:\n",
    "\n",
    "        df_list = []\n",
    "        for i, premise in enumerate(all_premises):\n",
    "            # set custom markers for points of interest\n",
    "            if i == 1255 or i == 1256 or i == 1290 or i == 1291:\n",
    "                labels[i] = \"POI1\"\n",
    "            if i == 403 or i == 418:\n",
    "                labels[i] = \"POI2\"\n",
    "            if i == 497 or i == 387:\n",
    "                labels[i] = \"POI3\"\n",
    "            if i == 1097 or i == 810 or i == 591:\n",
    "                labels[i] = \"POI4\"\n",
    "            df_list.append({'Premise': db[premise][-1], 'X': tsne_result[i,0], \"Y\": tsne_result[i,1], \"Z\": tsne_result[i,2], \"Thm\": premise_labels[i], \"Idx\": i})\n",
    "\n",
    "        df = pd.DataFrame.from_records(df_list)\n",
    "\n",
    "\n",
    "        fig = px.scatter_3d(df, x = 'X', y = 'Y', z = 'Z', color = 'Thm', hover_name = \"Premise\", hover_data = [\"Thm\", \"Idx\"])\n",
    "        fig.update_traces(marker_size = 3)\n",
    "\n",
    "        fig.write_html(graph_name+\".html\", auto_open=True)\n",
    "    elif n_components == 2:\n",
    "        ax = plt.figure(figsize=(16,10)).gca()\n",
    "        scatter = ax.scatter(x = tsne_result[:,0], y = tsne_result[:,1], c = [color_dict[l] for l in labels])#, label = labels_th)\n",
    "\n",
    "        legend1 = ax.legend(*(scatter.legend_elements()[0], labels_),\n",
    "                        loc=\"lower left\", title=\"Classes\", fontsize=16)\n",
    "        ax.add_artist(legend1)\n",
    "        plt.savefig(graph_name, format='pdf')\n",
    "\n",
    "        plt.show()\n",
    "    else:\n",
    "        raise NotImplementedError\n",
    "\n",
    "    return tsne_result, premise_labels\n",
    "\n"
   ],
   "metadata": {
    "collapsed": false
   }
  },
  {
   "cell_type": "code",
   "execution_count": null,
   "outputs": [],
   "source": [
    "vanilla_tsne, v_labs = plot_reps(original_embeddings, premise_labels, 2, \"original_premise_embeddings.pdf\")"
   ],
   "metadata": {
    "collapsed": false
   }
  },
  {
   "cell_type": "code",
   "execution_count": null,
   "outputs": [],
   "source": [
    "gnn_tsne, g_labs = plot_reps(gnn_embeddings, premise_labels, 2, \"gnn_premise_embeddings.pdf\")"
   ],
   "metadata": {
    "collapsed": false
   }
  },
  {
   "cell_type": "code",
   "execution_count": null,
   "outputs": [],
   "source": [
    "vanilla_tsne, v_labs = plot_reps(original_embeddings, premise_labels, 3, \"original_premise_embeddings\")"
   ],
   "metadata": {
    "collapsed": false
   }
  },
  {
   "cell_type": "code",
   "execution_count": null,
   "outputs": [],
   "source": [
    "gnn_tsne, g_labs = plot_reps(gnn_embeddings, premise_labels, 3, \"gnn_premise_embeddings\")"
   ],
   "metadata": {
    "collapsed": false
   }
  },
  {
   "cell_type": "code",
   "execution_count": null,
   "outputs": [],
   "source": [
    "cos = lambda m: F.normalize(m) @ F.normalize(m).t()"
   ],
   "metadata": {
    "collapsed": false
   }
  },
  {
   "cell_type": "code",
   "execution_count": null,
   "outputs": [],
   "source": [
    "original_cosine_closest = {}\n",
    "gnn_cosine_closest = {}\n",
    "def get_closest(ind):\n",
    "    inds = torch.topk(cos(original_embeddings)[ind], 5)[1][1:]\n",
    "    original_cosine_closest[db[all_premises[ind]][-1]] = [db[all_premises[x]][-1] for x in inds]\n",
    "    inds = torch.topk(cos(gnn_embeddings)[ind], 5)[1][1:]\n",
    "    gnn_cosine_closest[db[all_premises[ind]][-1]] = [db[all_premises[x]][-1] for x in inds]\n"
   ],
   "metadata": {
    "collapsed": false
   }
  },
  {
   "cell_type": "code",
   "execution_count": null,
   "outputs": [],
   "source": [
    "for i in range(len(all_premises)):\n",
    "    get_closest(i)\n",
    "    "
   ],
   "metadata": {
    "collapsed": false
   }
  },
  {
   "cell_type": "code",
   "execution_count": null,
   "outputs": [],
   "source": [
    "gnn_cosine_closest"
   ],
   "metadata": {
    "collapsed": false
   }
  },
  {
   "cell_type": "code",
   "execution_count": null,
   "outputs": [],
   "source": [
    "original_cosine_closest"
   ],
   "metadata": {
    "collapsed": false
   }
  },
  {
   "cell_type": "code",
   "execution_count": null,
   "outputs": [],
   "source": [
    "\n",
    "examples = []\n",
    "inds = [i for i,x in enumerate(all_premises)]\n",
    "random.shuffle(inds)\n",
    "\n",
    "num_premises = 20\n",
    "\n",
    "# only print expressions under 100 characters for readability\n",
    "short_only = True\n",
    "\n",
    "j = 0\n",
    "for i in inds:\n",
    "    if j == num_premises:\n",
    "        break\n",
    "    prem = db[all_premises[i]][-1]\n",
    "\n",
    "    #\n",
    "    if short_only:\n",
    "        if len(gnn_cosine_closest[prem][0]) < 100 and len(original_cosine_closest[prem][0]) < 100 and len(prem) < 100:\n",
    "            examples.append((prem, gnn_cosine_closest[prem][0], original_cosine_closest[prem][0]))\n",
    "            print(f\"Expression: {prem}\\n GNN: {gnn_cosine_closest[prem][0]}\\n Original: {original_cosine_closest[prem][0]}\\n\")\n",
    "            j += 1\n",
    "    else:\n",
    "        examples.append((prem, gnn_cosine_closest[prem][0], original_cosine_closest[prem][0]))\n",
    "        print(f\"Expression: {prem}\\n GNN: {gnn_cosine_closest[prem][0]}\\n Original: {original_cosine_closest[prem][0]}\\n\")\n",
    "        j += 1\n",
    "\n"
   ],
   "metadata": {
    "collapsed": false
   }
  },
  {
   "cell_type": "code",
   "execution_count": null,
   "outputs": [],
   "source": [
    "## Convert unicode expressions to latex\n",
    "# from pylatexenc.latexencode import UnicodeToLatexEncoder\n",
    "#\n",
    "# u = UnicodeToLatexEncoder(unknown_char_policy='replace')\n",
    "# print(u.unicode_to_latex('(R1 :α -> β -> bool) ∩ᵣ (R2 :α -> β -> bool) = R2 ∩ᵣ R1')))\n",
    "#\n",
    "# latex_examples = [u.unicode_to_latex(r) for r in examples]"
   ],
   "metadata": {
    "collapsed": false
   }
  }
 ],
 "metadata": {
  "kernelspec": {
   "name": "python3",
   "language": "python",
   "display_name": "Python 3 (ipykernel)"
  },
  "language_info": {
   "codemirror_mode": {
    "name": "ipython",
    "version": 2
   },
   "file_extension": ".py",
   "mimetype": "text/x-python",
   "name": "python",
   "nbconvert_exporter": "python",
   "pygments_lexer": "ipython2",
   "version": "2.7.6"
  }
 },
 "nbformat": 4,
 "nbformat_minor": 0
}
